{
 "cells": [
  {
   "cell_type": "markdown",
   "metadata": {},
   "source": [
    "# Dirichlet Process Mixture Model for the RADL Dataset\n",
    "\n",
    "This script aims to perform action segmentation using DPMM trained with memoroized variational inference method. \n",
    "This is just a demo for processing a feature sequence"
   ]
  },
  {
   "cell_type": "markdown",
   "metadata": {},
   "source": [
    "__1. import necessary libraries__"
   ]
  },
  {
   "cell_type": "code",
   "execution_count": 1,
   "metadata": {},
   "outputs": [],
   "source": [
    "import bnpy\n",
    "import numpy as np\n",
    "import os\n",
    "import time\n",
    "\n",
    "from matplotlib import pyplot as plt\n",
    "import seaborn as sns"
   ]
  },
  {
   "cell_type": "markdown",
   "metadata": {},
   "source": [
    "__2. define function to visualize segmentation result__"
   ]
  },
  {
   "cell_type": "code",
   "execution_count": 2,
   "metadata": {
    "scrolled": false
   },
   "outputs": [],
   "source": [
    "def plot_segmentation(labels):\n",
    "    plt.plot(labels)\n",
    "    plt.show()\n",
    "    "
   ]
  },
  {
   "cell_type": "markdown",
   "metadata": {},
   "source": [
    "__3. run the core part__\n",
    "\n",
    "3.1 One should note that we need read out the feature vectors from prepared files.\n",
    "\n",
    "3.2 The bnpy package support reading data from *.mat files."
   ]
  },
  {
   "cell_type": "markdown",
   "metadata": {},
   "source": []
  },
  {
   "cell_type": "code",
   "execution_count": 17,
   "metadata": {
    "scrolled": true
   },
   "outputs": [
    {
     "name": "stdout",
     "output_type": "stream",
     "text": [
      "--- train DPMM\n",
      "--- output results\n"
     ]
    },
    {
     "data": {
      "image/png": "[encoded data removed]",
      "text/plain": [
       "<matplotlib.figure.Figure at 0x7fae225ea690>"
      ]
     },
     "metadata": {},
     "output_type": "display_data"
    },
    {
     "ename": "NameError",
     "evalue": "name 'feature_type' is not defined",
     "output_type": "error",
     "traceback": [
      "\u001b[0;31m---------------------------------------------------------------------------\u001b[0m",
      "\u001b[0;31mNameError\u001b[0m                                 Traceback (most recent call last)",
      "\u001b[0;32m<ipython-input-17-aa79050b3c63>\u001b[0m in \u001b[0;36m<module>\u001b[0;34m()\u001b[0m\n\u001b[1;32m     40\u001b[0m \u001b[0mnp\u001b[0m\u001b[0;34m.\u001b[0m\u001b[0msavetxt\u001b[0m\u001b[0;34m(\u001b[0m\u001b[0mos\u001b[0m\u001b[0;34m.\u001b[0m\u001b[0mpath\u001b[0m\u001b[0;34m.\u001b[0m\u001b[0mjoin\u001b[0m\u001b[0;34m(\u001b[0m\u001b[0mresult_path\u001b[0m\u001b[0;34m,\u001b[0m \u001b[0moutfile2\u001b[0m\u001b[0;34m)\u001b[0m\u001b[0;34m,\u001b[0m \u001b[0mQ\u001b[0m\u001b[0;34m)\u001b[0m\u001b[0;34m\u001b[0m\u001b[0m\n\u001b[1;32m     41\u001b[0m \u001b[0;34m\u001b[0m\u001b[0m\n\u001b[0;32m---> 42\u001b[0;31m \u001b[0;32mprint\u001b[0m \u001b[0mfeature_type\u001b[0m\u001b[0;34m+\u001b[0m\u001b[0;34m':mean(runtime)='\u001b[0m \u001b[0;34m+\u001b[0m \u001b[0mstr\u001b[0m\u001b[0;34m(\u001b[0m\u001b[0mnp\u001b[0m\u001b[0;34m.\u001b[0m\u001b[0mmean\u001b[0m\u001b[0;34m(\u001b[0m\u001b[0mcpt_time\u001b[0m\u001b[0;34m)\u001b[0m\u001b[0;34m)\u001b[0m\u001b[0;34m\u001b[0m\u001b[0m\n\u001b[0m",
      "\u001b[0;31mNameError\u001b[0m: name 'feature_type' is not defined"
     ]
    }
   ],
   "source": [
    "feature_list = ['idtfv', 'VGG16', 'jointLocs','relativeAngle','quaternions']\n",
    "dataset_path = '/home/yzhang/workspace/IncrementalClustering/cvpr_demo/IDT_RADL'\n",
    "result_path = '/home/yzhang/workspace/IncrementalClustering/cvpr_demo/IDT_RADL'\n",
    "cpt_time = []\n",
    "\n",
    "## read the features from the file\n",
    "filename = 'idt_drinkWaterS1R1_transpose.mat'\n",
    "\n",
    "dataset = bnpy.data.XData.read_mat(os.path.join(dataset_path, filename))\n",
    "\n",
    "## train DPMM using online algorithm\n",
    "print '--- train DPMM'\n",
    "time_start = time.time()\n",
    "K1_trained_model, K1_info_dict = bnpy.run(\n",
    "dataset, 'DPMixtureModel', 'DiagGauss', 'memoVB',\n",
    "output_path='/tmp/CUMMAD_DPMM/trymoves-K=1/',\n",
    "doWriteStdOut=False,\n",
    "nLap=30, nTask=1, nBatch=1,\n",
    "sF=1e3, ECovMat='eye',\n",
    "K=1, initname='randexamples',\n",
    "moves='birth,merge,shuffle',\n",
    "m_startLap=5, b_startLap=2, b_Kfresh=4)\n",
    "\n",
    "## measure running time\n",
    "eps = time.time()-time_start\n",
    "cpt_time = np.append(cpt_time, eps)\n",
    "\n",
    "## assign labels to samples (0-based cluster)\n",
    "print '--- output results'\n",
    "Q = K1_trained_model.calc_local_params(dataset)['E_log_soft_ev'] # time X dimension, matrix of encoded features\n",
    "sample_labels = np.argmax(Q, axis=1)\n",
    "plot_segmentation(sample_labels)\n",
    "\n",
    "## save the sample labels to file\n",
    "outfile = 'RochesterADL_S1R1_DPMM_SampleLabels.txt'\n",
    "np.savetxt(os.path.join(result_path, outfile), sample_labels)\n",
    "\n",
    "## save the encoded features to file\n",
    "outfile2 = 'RochesterADL_S1R1_DPMM_SampleEncodings.txt'\n",
    "np.savetxt(os.path.join(result_path, outfile2), Q)\n",
    "\n",
    "print feature_type+':mean(runtime)=' + str(np.mean(cpt_time))"
   ]
  },
  {
   "cell_type": "code",
   "execution_count": 22,
   "metadata": {},
   "outputs": [
    {
     "name": "stdout",
     "output_type": "stream",
     "text": [
      "mean(runtime)=34.5368275881\n"
     ]
    }
   ],
   "source": []
  },
  {
   "cell_type": "markdown",
   "metadata": {},
   "source": []
  },
  {
   "cell_type": "code",
   "execution_count": 26,
   "metadata": {},
   "outputs": [],
   "source": []
  },
  {
   "cell_type": "code",
   "execution_count": 28,
   "metadata": {},
   "outputs": [
    {
     "data": {
      "text/plain": [
       "['jointLocs', 'relativeAngle', 'quaternions']"
      ]
     },
     "execution_count": 28,
     "metadata": {},
     "output_type": "execute_result"
    }
   ],
   "source": []
  },
  {
   "cell_type": "code",
   "execution_count": null,
   "metadata": {},
   "outputs": [],
   "source": []
  }
 ],
 "metadata": {
  "kernelspec": {
   "display_name": "Python 2",
   "language": "python",
   "name": "python2"
  },
  "language_info": {
   "codemirror_mode": {
    "name": "ipython",
    "version": 2
   },
   "file_extension": ".py",
   "mimetype": "text/x-python",
   "name": "python",
   "nbconvert_exporter": "python",
   "pygments_lexer": "ipython2",
   "version": "2.7.12"
  }
 },
 "nbformat": 4,
 "nbformat_minor": 2
}
